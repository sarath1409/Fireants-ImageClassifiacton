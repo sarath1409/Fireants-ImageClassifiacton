{
 "cells": [
  {
   "cell_type": "code",
   "execution_count": 38,
   "metadata": {},
   "outputs": [],
   "source": [
    "import keras\n",
    "from keras.applications import VGG16\n",
    "\n",
    "conv_base = VGG16(weights='imagenet',\n",
    "                  include_top=False,\n",
    "                  input_shape=(150, 150, 3))"
   ]
  },
  {
   "cell_type": "code",
   "execution_count": 39,
   "metadata": {},
   "outputs": [
    {
     "name": "stdout",
     "output_type": "stream",
     "text": [
      "_________________________________________________________________\n",
      "Layer (type)                 Output Shape              Param #   \n",
      "=================================================================\n",
      "input_3 (InputLayer)         (None, 150, 150, 3)       0         \n",
      "_________________________________________________________________\n",
      "block1_conv1 (Conv2D)        (None, 150, 150, 64)      1792      \n",
      "_________________________________________________________________\n",
      "block1_conv2 (Conv2D)        (None, 150, 150, 64)      36928     \n",
      "_________________________________________________________________\n",
      "block1_pool (MaxPooling2D)   (None, 75, 75, 64)        0         \n",
      "_________________________________________________________________\n",
      "block2_conv1 (Conv2D)        (None, 75, 75, 128)       73856     \n",
      "_________________________________________________________________\n",
      "block2_conv2 (Conv2D)        (None, 75, 75, 128)       147584    \n",
      "_________________________________________________________________\n",
      "block2_pool (MaxPooling2D)   (None, 37, 37, 128)       0         \n",
      "_________________________________________________________________\n",
      "block3_conv1 (Conv2D)        (None, 37, 37, 256)       295168    \n",
      "_________________________________________________________________\n",
      "block3_conv2 (Conv2D)        (None, 37, 37, 256)       590080    \n",
      "_________________________________________________________________\n",
      "block3_conv3 (Conv2D)        (None, 37, 37, 256)       590080    \n",
      "_________________________________________________________________\n",
      "block3_pool (MaxPooling2D)   (None, 18, 18, 256)       0         \n",
      "_________________________________________________________________\n",
      "block4_conv1 (Conv2D)        (None, 18, 18, 512)       1180160   \n",
      "_________________________________________________________________\n",
      "block4_conv2 (Conv2D)        (None, 18, 18, 512)       2359808   \n",
      "_________________________________________________________________\n",
      "block4_conv3 (Conv2D)        (None, 18, 18, 512)       2359808   \n",
      "_________________________________________________________________\n",
      "block4_pool (MaxPooling2D)   (None, 9, 9, 512)         0         \n",
      "_________________________________________________________________\n",
      "block5_conv1 (Conv2D)        (None, 9, 9, 512)         2359808   \n",
      "_________________________________________________________________\n",
      "block5_conv2 (Conv2D)        (None, 9, 9, 512)         2359808   \n",
      "_________________________________________________________________\n",
      "block5_conv3 (Conv2D)        (None, 9, 9, 512)         2359808   \n",
      "_________________________________________________________________\n",
      "block5_pool (MaxPooling2D)   (None, 4, 4, 512)         0         \n",
      "=================================================================\n",
      "Total params: 14,714,688\n",
      "Trainable params: 14,714,688\n",
      "Non-trainable params: 0\n",
      "_________________________________________________________________\n"
     ]
    }
   ],
   "source": [
    "conv_base.summary()"
   ]
  },
  {
   "cell_type": "code",
   "execution_count": 40,
   "metadata": {},
   "outputs": [
    {
     "name": "stdout",
     "output_type": "stream",
     "text": [
      "Found 169 images belonging to 3 classes.\n",
      "Found 52 images belonging to 3 classes.\n",
      "Found 56 images belonging to 3 classes.\n",
      "(20, 4, 4, 512)\n",
      "(20, 3)\n",
      "[[[[  1.49898291e-01   0.00000000e+00   5.70220053e-02 ...,\n",
      "      0.00000000e+00   9.99690056e-01   0.00000000e+00]\n",
      "   [  4.86486971e-01   0.00000000e+00   3.82738680e-01 ...,\n",
      "      0.00000000e+00   6.00962579e-01   0.00000000e+00]\n",
      "   [  2.73944855e-01   0.00000000e+00   4.49480593e-01 ...,\n",
      "      5.71432114e-02   8.56729388e-01   0.00000000e+00]\n",
      "   [  1.69984221e-01   0.00000000e+00   1.61142170e-01 ...,\n",
      "      1.97799236e-01   1.29125929e+00   0.00000000e+00]]\n",
      "\n",
      "  [[  6.43842816e-01   0.00000000e+00   3.54903907e-01 ...,\n",
      "      0.00000000e+00   1.04896355e+00   0.00000000e+00]\n",
      "   [  5.93129516e-01   0.00000000e+00   1.50256467e+00 ...,\n",
      "      0.00000000e+00   3.53370905e-01   0.00000000e+00]\n",
      "   [  2.17521608e-01   0.00000000e+00   1.46788692e+00 ...,\n",
      "      1.70550942e-02   3.30284834e-01   0.00000000e+00]\n",
      "   [  6.42242879e-02   0.00000000e+00   5.58883011e-01 ...,\n",
      "      3.98972154e-01   1.22702956e+00   0.00000000e+00]]\n",
      "\n",
      "  [[  1.07674766e+00   0.00000000e+00   9.33173835e-01 ...,\n",
      "      0.00000000e+00   5.57074368e-01   0.00000000e+00]\n",
      "   [  1.14361644e+00   0.00000000e+00   1.81349492e+00 ...,\n",
      "      0.00000000e+00   0.00000000e+00   0.00000000e+00]\n",
      "   [  5.57118773e-01   0.00000000e+00   1.63366890e+00 ...,\n",
      "      0.00000000e+00   1.64360225e-01   0.00000000e+00]\n",
      "   [  0.00000000e+00   0.00000000e+00   1.00282145e+00 ...,\n",
      "      0.00000000e+00   8.48847806e-01   0.00000000e+00]]\n",
      "\n",
      "  [[  5.41210115e-01   0.00000000e+00   7.14122057e-01 ...,\n",
      "      0.00000000e+00   7.83244848e-01   0.00000000e+00]\n",
      "   [  2.59366453e-01   0.00000000e+00   7.29905248e-01 ...,\n",
      "      0.00000000e+00   6.83232009e-01   0.00000000e+00]\n",
      "   [  4.03379947e-01   0.00000000e+00   6.21759117e-01 ...,\n",
      "      0.00000000e+00   6.57727957e-01   0.00000000e+00]\n",
      "   [  3.03406954e-01   0.00000000e+00   4.86844778e-01 ...,\n",
      "      1.30916715e-01   8.79102945e-01   0.00000000e+00]]]\n",
      "\n",
      "\n",
      " [[[  4.37805891e-01   0.00000000e+00   0.00000000e+00 ...,\n",
      "      0.00000000e+00   6.52420163e-01   0.00000000e+00]\n",
      "   [  2.02349842e-01   0.00000000e+00   0.00000000e+00 ...,\n",
      "      0.00000000e+00   5.17468870e-01   0.00000000e+00]\n",
      "   [  0.00000000e+00   0.00000000e+00   0.00000000e+00 ...,\n",
      "      0.00000000e+00   5.36449075e-01   0.00000000e+00]\n",
      "   [  8.44369382e-02   0.00000000e+00   0.00000000e+00 ...,\n",
      "      0.00000000e+00   6.56575918e-01   0.00000000e+00]]\n",
      "\n",
      "  [[  9.95107293e-02   0.00000000e+00   2.25836039e-03 ...,\n",
      "      0.00000000e+00   5.30350387e-01   0.00000000e+00]\n",
      "   [  0.00000000e+00   0.00000000e+00   1.74588799e+00 ...,\n",
      "      0.00000000e+00   7.60379434e-02   1.43295324e+00]\n",
      "   [  0.00000000e+00   0.00000000e+00   2.03569436e+00 ...,\n",
      "      1.53659612e-01   6.31069958e-01   1.67445874e+00]\n",
      "   [  0.00000000e+00   0.00000000e+00   9.73861635e-01 ...,\n",
      "      1.72018945e-01   7.84568429e-01   3.67892891e-01]]\n",
      "\n",
      "  [[  2.55855024e-01   0.00000000e+00   6.83861256e-01 ...,\n",
      "      0.00000000e+00   1.14805079e+00   0.00000000e+00]\n",
      "   [  1.17015362e+00   0.00000000e+00   1.80030799e+00 ...,\n",
      "      1.75218761e-01   5.10763526e-02   7.97295928e-01]\n",
      "   [  1.41938424e+00   0.00000000e+00   2.19528413e+00 ...,\n",
      "      5.51207721e-01   7.85521746e-01   8.77656579e-01]\n",
      "   [  0.00000000e+00   0.00000000e+00   1.27657175e+00 ...,\n",
      "      4.67222989e-01   1.07846594e+00   0.00000000e+00]]\n",
      "\n",
      "  [[  0.00000000e+00   0.00000000e+00   9.95001435e-01 ...,\n",
      "      0.00000000e+00   1.46947479e+00   0.00000000e+00]\n",
      "   [  7.74486601e-01   0.00000000e+00   1.51484954e+00 ...,\n",
      "      0.00000000e+00   8.50367367e-01   0.00000000e+00]\n",
      "   [  1.19938231e+00   0.00000000e+00   1.51337910e+00 ...,\n",
      "      0.00000000e+00   1.04627943e+00   0.00000000e+00]\n",
      "   [  1.44021988e-01   0.00000000e+00   5.85401654e-01 ...,\n",
      "      0.00000000e+00   1.24583530e+00   0.00000000e+00]]]\n",
      "\n",
      "\n",
      " [[[  0.00000000e+00   0.00000000e+00   2.95192659e-01 ...,\n",
      "      0.00000000e+00   9.32298541e-01   0.00000000e+00]\n",
      "   [  0.00000000e+00   0.00000000e+00   3.83305669e-01 ...,\n",
      "      0.00000000e+00   6.60240114e-01   0.00000000e+00]\n",
      "   [  0.00000000e+00   0.00000000e+00   3.57677579e-01 ...,\n",
      "      0.00000000e+00   6.23976707e-01   0.00000000e+00]\n",
      "   [  0.00000000e+00   0.00000000e+00   1.30525976e-01 ...,\n",
      "      0.00000000e+00   7.41516232e-01   0.00000000e+00]]\n",
      "\n",
      "  [[  0.00000000e+00   0.00000000e+00   5.50739348e-01 ...,\n",
      "      0.00000000e+00   9.79700267e-01   0.00000000e+00]\n",
      "   [  0.00000000e+00   0.00000000e+00   8.75576615e-01 ...,\n",
      "      0.00000000e+00   5.64697385e-01   0.00000000e+00]\n",
      "   [  0.00000000e+00   0.00000000e+00   9.69371557e-01 ...,\n",
      "      0.00000000e+00   7.36296952e-01   0.00000000e+00]\n",
      "   [  0.00000000e+00   0.00000000e+00   4.59743917e-01 ...,\n",
      "      0.00000000e+00   1.05155420e+00   0.00000000e+00]]\n",
      "\n",
      "  [[  1.40394539e-01   0.00000000e+00   4.86190617e-01 ...,\n",
      "      0.00000000e+00   9.34167147e-01   0.00000000e+00]\n",
      "   [  0.00000000e+00   0.00000000e+00   8.17143321e-01 ...,\n",
      "      0.00000000e+00   4.95733470e-01   0.00000000e+00]\n",
      "   [  1.47692263e-02   0.00000000e+00   9.92050290e-01 ...,\n",
      "      0.00000000e+00   6.98280931e-01   0.00000000e+00]\n",
      "   [  5.67767918e-02   0.00000000e+00   9.12257075e-01 ...,\n",
      "      0.00000000e+00   1.25176930e+00   0.00000000e+00]]\n",
      "\n",
      "  [[  2.82282829e-02   0.00000000e+00   6.56668425e-01 ...,\n",
      "      0.00000000e+00   1.08005011e+00   0.00000000e+00]\n",
      "   [  0.00000000e+00   0.00000000e+00   1.11318874e+00 ...,\n",
      "      0.00000000e+00   8.16428542e-01   0.00000000e+00]\n",
      "   [  0.00000000e+00   0.00000000e+00   9.18821394e-01 ...,\n",
      "      0.00000000e+00   9.19686079e-01   0.00000000e+00]\n",
      "   [  0.00000000e+00   0.00000000e+00   9.57333207e-01 ...,\n",
      "      0.00000000e+00   1.05985057e+00   0.00000000e+00]]]\n",
      "\n",
      "\n",
      " ..., \n",
      " [[[  1.17875397e-01   0.00000000e+00   1.49396479e-01 ...,\n",
      "      0.00000000e+00   1.13399959e+00   0.00000000e+00]\n",
      "   [  0.00000000e+00   0.00000000e+00   0.00000000e+00 ...,\n",
      "      0.00000000e+00   9.96329308e-01   0.00000000e+00]\n",
      "   [  0.00000000e+00   0.00000000e+00   0.00000000e+00 ...,\n",
      "      0.00000000e+00   9.32063818e-01   0.00000000e+00]\n",
      "   [  1.97463676e-01   0.00000000e+00   2.83480823e-01 ...,\n",
      "      0.00000000e+00   1.03174520e+00   0.00000000e+00]]\n",
      "\n",
      "  [[  0.00000000e+00   0.00000000e+00   8.02044868e-02 ...,\n",
      "      0.00000000e+00   1.09956908e+00   0.00000000e+00]\n",
      "   [  0.00000000e+00   0.00000000e+00   2.68645018e-01 ...,\n",
      "      0.00000000e+00   1.08626318e+00   0.00000000e+00]\n",
      "   [  0.00000000e+00   0.00000000e+00   2.56576657e-01 ...,\n",
      "      0.00000000e+00   1.07656240e+00   0.00000000e+00]\n",
      "   [  0.00000000e+00   0.00000000e+00   3.32109213e-01 ...,\n",
      "      0.00000000e+00   1.04658794e+00   0.00000000e+00]]\n",
      "\n",
      "  [[  4.74010706e-02   0.00000000e+00   1.61227912e-01 ...,\n",
      "      0.00000000e+00   1.04842806e+00   0.00000000e+00]\n",
      "   [  0.00000000e+00   0.00000000e+00   6.45397007e-01 ...,\n",
      "      0.00000000e+00   1.14440000e+00   0.00000000e+00]\n",
      "   [  0.00000000e+00   0.00000000e+00   5.65717340e-01 ...,\n",
      "      0.00000000e+00   1.16227007e+00   0.00000000e+00]\n",
      "   [  0.00000000e+00   0.00000000e+00   4.20733958e-01 ...,\n",
      "      0.00000000e+00   1.07191098e+00   0.00000000e+00]]\n",
      "\n",
      "  [[  0.00000000e+00   0.00000000e+00   4.78109121e-02 ...,\n",
      "      0.00000000e+00   1.28639627e+00   0.00000000e+00]\n",
      "   [  0.00000000e+00   0.00000000e+00   4.45846409e-01 ...,\n",
      "      0.00000000e+00   1.25818658e+00   0.00000000e+00]\n",
      "   [  0.00000000e+00   0.00000000e+00   4.53438401e-01 ...,\n",
      "      0.00000000e+00   1.18827569e+00   0.00000000e+00]\n",
      "   [  0.00000000e+00   0.00000000e+00   2.74898618e-01 ...,\n",
      "      0.00000000e+00   9.97891784e-01   0.00000000e+00]]]\n",
      "\n",
      "\n",
      " [[[  7.33425975e-01   0.00000000e+00   0.00000000e+00 ...,\n",
      "      0.00000000e+00   4.64869976e-01   0.00000000e+00]\n",
      "   [  5.29171705e-01   0.00000000e+00   0.00000000e+00 ...,\n",
      "      0.00000000e+00   3.29108536e-01   0.00000000e+00]\n",
      "   [  0.00000000e+00   0.00000000e+00   0.00000000e+00 ...,\n",
      "      0.00000000e+00   2.55794883e-01   0.00000000e+00]\n",
      "   [  0.00000000e+00   0.00000000e+00   0.00000000e+00 ...,\n",
      "      0.00000000e+00   1.94129616e-01   0.00000000e+00]]\n",
      "\n",
      "  [[  7.52829254e-01   0.00000000e+00   2.54934430e-02 ...,\n",
      "      0.00000000e+00   7.33471632e-01   0.00000000e+00]\n",
      "   [  4.55028892e-01   0.00000000e+00   1.04264617e+00 ...,\n",
      "      3.97388875e-01   4.46658403e-01   0.00000000e+00]\n",
      "   [  0.00000000e+00   0.00000000e+00   1.19873261e+00 ...,\n",
      "      4.84279424e-01   0.00000000e+00   0.00000000e+00]\n",
      "   [  0.00000000e+00   0.00000000e+00   7.83451438e-01 ...,\n",
      "      0.00000000e+00   1.21581554e-01   0.00000000e+00]]\n",
      "\n",
      "  [[  1.57631576e+00   0.00000000e+00   6.95924997e-01 ...,\n",
      "      0.00000000e+00   9.06144738e-01   0.00000000e+00]\n",
      "   [  1.17897844e+00   0.00000000e+00   1.53962111e+00 ...,\n",
      "      3.01536530e-01   8.62938046e-01   0.00000000e+00]\n",
      "   [  1.15844500e+00   0.00000000e+00   1.57426310e+00 ...,\n",
      "      2.79846281e-01   0.00000000e+00   0.00000000e+00]\n",
      "   [  3.51533711e-01   0.00000000e+00   1.25516653e+00 ...,\n",
      "      0.00000000e+00   3.91070992e-01   0.00000000e+00]]\n",
      "\n",
      "  [[  1.50185859e+00   0.00000000e+00   6.46440625e-01 ...,\n",
      "      0.00000000e+00   8.29410672e-01   0.00000000e+00]\n",
      "   [  7.58683443e-01   0.00000000e+00   7.57544756e-01 ...,\n",
      "      2.11159661e-02   8.70870352e-01   0.00000000e+00]\n",
      "   [  3.52637231e-01   0.00000000e+00   6.56364083e-01 ...,\n",
      "      1.08046621e-01   4.14176583e-01   0.00000000e+00]\n",
      "   [  1.98131844e-01   0.00000000e+00   5.55568516e-01 ...,\n",
      "      0.00000000e+00   3.41022253e-01   0.00000000e+00]]]\n",
      "\n",
      "\n",
      " [[[  2.41339713e-01   0.00000000e+00   9.94859338e-02 ...,\n",
      "      0.00000000e+00   9.82482553e-01   0.00000000e+00]\n",
      "   [  8.69676352e-01   0.00000000e+00   0.00000000e+00 ...,\n",
      "      0.00000000e+00   9.27987754e-01   0.00000000e+00]\n",
      "   [  1.27408826e+00   0.00000000e+00   8.95724595e-01 ...,\n",
      "      0.00000000e+00   6.29790783e-01   0.00000000e+00]\n",
      "   [  1.68594921e+00   0.00000000e+00   7.07511485e-01 ...,\n",
      "      5.87602220e-02   2.13498652e-01   0.00000000e+00]]\n",
      "\n",
      "  [[  3.91465336e-01   0.00000000e+00   3.52702379e-01 ...,\n",
      "      0.00000000e+00   4.50965494e-01   0.00000000e+00]\n",
      "   [  1.19896960e+00   0.00000000e+00   3.14670205e-02 ...,\n",
      "      0.00000000e+00   4.40782905e-01   0.00000000e+00]\n",
      "   [  1.67531538e+00   0.00000000e+00   2.24196315e-01 ...,\n",
      "      1.80147260e-01   0.00000000e+00   0.00000000e+00]\n",
      "   [  2.96402192e+00   0.00000000e+00   2.39137888e-01 ...,\n",
      "      3.69308501e-01   1.91565901e-01   0.00000000e+00]]\n",
      "\n",
      "  [[  9.20871198e-02   0.00000000e+00   0.00000000e+00 ...,\n",
      "      0.00000000e+00   4.36666012e-01   0.00000000e+00]\n",
      "   [  3.14408928e-01   0.00000000e+00   1.39064956e+00 ...,\n",
      "      0.00000000e+00   4.55548793e-01   0.00000000e+00]\n",
      "   [  2.15680289e+00   0.00000000e+00   1.18373823e+00 ...,\n",
      "      0.00000000e+00   2.12161422e-01   0.00000000e+00]\n",
      "   [  3.11061072e+00   0.00000000e+00   6.69890642e-03 ...,\n",
      "      0.00000000e+00   5.53168118e-01   0.00000000e+00]]\n",
      "\n",
      "  [[  0.00000000e+00   0.00000000e+00   2.68340498e-01 ...,\n",
      "      0.00000000e+00   3.46128821e-01   0.00000000e+00]\n",
      "   [  4.66385633e-01   0.00000000e+00   1.43480825e+00 ...,\n",
      "      0.00000000e+00   5.33995628e-02   0.00000000e+00]\n",
      "   [  8.06772709e-01   0.00000000e+00   1.11928678e+00 ...,\n",
      "      0.00000000e+00   1.10408902e-01   0.00000000e+00]\n",
      "   [  8.66471469e-01   0.00000000e+00   0.00000000e+00 ...,\n",
      "      0.00000000e+00   2.48272628e-01   0.00000000e+00]]]]\n",
      "CPU times: user 4min 25s, sys: 7.69 s, total: 4min 33s\n",
      "Wall time: 1min 18s\n"
     ]
    }
   ],
   "source": [
    "%%time\n",
    "import os\n",
    "import numpy as np\n",
    "from keras.preprocessing.image import ImageDataGenerator\n",
    "\n",
    "base_dir = 'output-folder/'\n",
    "\n",
    "train_dir = os.path.join(base_dir, 'training')\n",
    "validation_dir = os.path.join(base_dir, 'validation')\n",
    "test_dir = os.path.join(base_dir, 'test')\n",
    "\n",
    "datagen = ImageDataGenerator(rescale=1./255)\n",
    "batch_size = 20\n",
    "\n",
    "def extract_features(directory, sample_count):\n",
    "    features = np.zeros(shape=(sample_count, 4, 4, 512))\n",
    "    labels = np.zeros(shape=(sample_count,3))\n",
    "    generator = datagen.flow_from_directory(\n",
    "        directory,\n",
    "        target_size=(150, 150),\n",
    "        batch_size=batch_size,\n",
    "        class_mode='categorical')\n",
    "\n",
    "    i = 0\n",
    "    for inputs_batch, labels_batch in generator:\n",
    "#         print(labels_batch)\n",
    "#         print(inputs_batch)\n",
    "        features_batch = conv_base.predict(inputs_batch)\n",
    "        features[i * batch_size : (i + 1) * batch_size] = features_batch\n",
    "        labels[i * batch_size : (i + 1) * batch_size] = labels_batch\n",
    "        i += 1\n",
    "        if i * batch_size >= sample_count:\n",
    "            # Note that since generators yield data indefinitely in a loop,\n",
    "            # we must `break` after every image has been seen once.\n",
    "            break\n",
    "    return features, labels\n",
    "\n",
    "train_features, train_labels = extract_features(train_dir, 100)\n",
    "validation_features, validation_labels = extract_features(validation_dir,20)\n",
    "test_features, test_labels = extract_features(test_dir, 20)\n",
    "\n",
    "print(test_features.shape)\n",
    "print(test_labels.shape)\n",
    "print(test_features)"
   ]
  },
  {
   "cell_type": "code",
   "execution_count": 41,
   "metadata": {
    "scrolled": true
   },
   "outputs": [
    {
     "name": "stdout",
     "output_type": "stream",
     "text": [
      "[[ 0.  1.  0.]\n",
      " [ 0.  0.  1.]\n",
      " [ 0.  1.  0.]\n",
      " [ 1.  0.  0.]\n",
      " [ 0.  0.  1.]\n",
      " [ 1.  0.  0.]\n",
      " [ 0.  0.  1.]\n",
      " [ 0.  1.  0.]\n",
      " [ 0.  1.  0.]\n",
      " [ 1.  0.  0.]\n",
      " [ 1.  0.  0.]\n",
      " [ 0.  0.  1.]\n",
      " [ 1.  0.  0.]\n",
      " [ 1.  0.  0.]\n",
      " [ 1.  0.  0.]\n",
      " [ 1.  0.  0.]\n",
      " [ 0.  0.  1.]\n",
      " [ 0.  1.  0.]\n",
      " [ 0.  0.  1.]\n",
      " [ 1.  0.  0.]]\n",
      "CPU times: user 0 ns, sys: 4 ms, total: 4 ms\n",
      "Wall time: 105 ms\n"
     ]
    }
   ],
   "source": [
    "%%time\n",
    "print(test_labels[0:20])\n",
    "from keras.utils import to_categorical\n",
    "test_labels = to_categorical(test_labels, 3)"
   ]
  },
  {
   "cell_type": "code",
   "execution_count": 42,
   "metadata": {
    "scrolled": true
   },
   "outputs": [
    {
     "name": "stdout",
     "output_type": "stream",
     "text": [
      "(20, 3, 3)\n"
     ]
    }
   ],
   "source": [
    "print(test_labels.shape)"
   ]
  },
  {
   "cell_type": "code",
   "execution_count": 43,
   "metadata": {},
   "outputs": [],
   "source": [
    "train_features = np.reshape(train_features ,(100,4 * 4 * 512))\n",
    "validation_features = np.reshape(validation_features, (20, 4 * 4 * 512))\n",
    "test_features = np.reshape(test_features, (20, 4 * 4 * 512))"
   ]
  },
  {
   "cell_type": "code",
   "execution_count": 44,
   "metadata": {},
   "outputs": [
    {
     "name": "stdout",
     "output_type": "stream",
     "text": [
      "Train on 100 samples, validate on 20 samples\n",
      "Epoch 1/50\n",
      "100/100 [==============================] - 1s 13ms/step - loss: 1.2412 - acc: 0.4400 - val_loss: 0.9801 - val_acc: 0.6000\n",
      "Epoch 2/50\n",
      "100/100 [==============================] - 0s 3ms/step - loss: 1.0761 - acc: 0.4800 - val_loss: 0.9265 - val_acc: 0.6500\n",
      "Epoch 3/50\n",
      "100/100 [==============================] - 0s 3ms/step - loss: 1.1269 - acc: 0.4400 - val_loss: 0.8923 - val_acc: 0.6500\n",
      "Epoch 4/50\n",
      "100/100 [==============================] - 0s 2ms/step - loss: 0.9627 - acc: 0.5900 - val_loss: 0.8839 - val_acc: 0.7000\n",
      "Epoch 5/50\n",
      "100/100 [==============================] - 0s 2ms/step - loss: 0.9791 - acc: 0.5100 - val_loss: 0.8733 - val_acc: 0.7500\n",
      "Epoch 6/50\n",
      "100/100 [==============================] - 0s 2ms/step - loss: 0.8960 - acc: 0.5200 - val_loss: 0.8656 - val_acc: 0.7500\n",
      "Epoch 7/50\n",
      "100/100 [==============================] - 0s 2ms/step - loss: 1.0018 - acc: 0.3900 - val_loss: 0.8522 - val_acc: 0.7000\n",
      "Epoch 8/50\n",
      "100/100 [==============================] - 0s 2ms/step - loss: 0.9678 - acc: 0.4800 - val_loss: 0.8399 - val_acc: 0.7500\n",
      "Epoch 9/50\n",
      "100/100 [==============================] - 0s 3ms/step - loss: 0.8294 - acc: 0.6500 - val_loss: 0.8067 - val_acc: 0.7000\n",
      "Epoch 10/50\n",
      "100/100 [==============================] - 0s 3ms/step - loss: 0.7446 - acc: 0.6400 - val_loss: 0.8069 - val_acc: 0.7500\n",
      "Epoch 11/50\n",
      "100/100 [==============================] - 0s 3ms/step - loss: 0.7896 - acc: 0.6700 - val_loss: 0.7976 - val_acc: 0.7500\n",
      "Epoch 12/50\n",
      "100/100 [==============================] - 0s 2ms/step - loss: 0.7567 - acc: 0.6500 - val_loss: 0.7944 - val_acc: 0.7500\n",
      "Epoch 13/50\n",
      "100/100 [==============================] - 0s 2ms/step - loss: 0.6852 - acc: 0.7100 - val_loss: 0.7890 - val_acc: 0.7000\n",
      "Epoch 14/50\n",
      "100/100 [==============================] - 0s 3ms/step - loss: 0.6637 - acc: 0.7200 - val_loss: 0.7900 - val_acc: 0.7000\n",
      "Epoch 15/50\n",
      "100/100 [==============================] - 0s 3ms/step - loss: 0.6947 - acc: 0.7400 - val_loss: 0.7590 - val_acc: 0.7500\n",
      "Epoch 16/50\n",
      "100/100 [==============================] - 0s 2ms/step - loss: 0.6802 - acc: 0.7400 - val_loss: 0.7485 - val_acc: 0.7500\n",
      "Epoch 17/50\n",
      "100/100 [==============================] - 0s 2ms/step - loss: 0.6096 - acc: 0.7300 - val_loss: 0.7547 - val_acc: 0.7500\n",
      "Epoch 18/50\n",
      "100/100 [==============================] - 0s 2ms/step - loss: 0.6321 - acc: 0.7200 - val_loss: 0.7663 - val_acc: 0.7000\n",
      "Epoch 19/50\n",
      "100/100 [==============================] - 0s 2ms/step - loss: 0.6435 - acc: 0.7300 - val_loss: 0.7458 - val_acc: 0.7500\n",
      "Epoch 20/50\n",
      "100/100 [==============================] - 0s 2ms/step - loss: 0.5581 - acc: 0.8200 - val_loss: 0.7353 - val_acc: 0.7500\n",
      "Epoch 21/50\n",
      "100/100 [==============================] - 0s 3ms/step - loss: 0.5684 - acc: 0.7800 - val_loss: 0.7471 - val_acc: 0.7000\n",
      "Epoch 22/50\n",
      "100/100 [==============================] - 0s 3ms/step - loss: 0.5133 - acc: 0.8600 - val_loss: 0.7321 - val_acc: 0.7500\n",
      "Epoch 23/50\n",
      "100/100 [==============================] - 0s 2ms/step - loss: 0.5670 - acc: 0.8000 - val_loss: 0.7260 - val_acc: 0.7500\n",
      "Epoch 24/50\n",
      "100/100 [==============================] - 0s 3ms/step - loss: 0.5002 - acc: 0.7900 - val_loss: 0.7411 - val_acc: 0.7500\n",
      "Epoch 25/50\n",
      "100/100 [==============================] - 0s 2ms/step - loss: 0.4789 - acc: 0.8700 - val_loss: 0.7403 - val_acc: 0.7500\n",
      "Epoch 26/50\n",
      "100/100 [==============================] - 0s 2ms/step - loss: 0.5434 - acc: 0.7700 - val_loss: 0.7290 - val_acc: 0.7500\n",
      "Epoch 27/50\n",
      "100/100 [==============================] - 0s 3ms/step - loss: 0.4080 - acc: 0.9400 - val_loss: 0.7489 - val_acc: 0.7000\n",
      "Epoch 28/50\n",
      "100/100 [==============================] - 0s 2ms/step - loss: 0.4698 - acc: 0.8600 - val_loss: 0.7430 - val_acc: 0.7000\n",
      "Epoch 29/50\n",
      "100/100 [==============================] - 0s 3ms/step - loss: 0.4836 - acc: 0.8100 - val_loss: 0.7243 - val_acc: 0.7500\n",
      "Epoch 30/50\n",
      "100/100 [==============================] - 0s 3ms/step - loss: 0.4335 - acc: 0.8500 - val_loss: 0.7059 - val_acc: 0.7500\n",
      "Epoch 31/50\n",
      "100/100 [==============================] - 0s 2ms/step - loss: 0.3645 - acc: 0.9200 - val_loss: 0.7253 - val_acc: 0.7500\n",
      "Epoch 32/50\n",
      "100/100 [==============================] - 0s 3ms/step - loss: 0.4341 - acc: 0.8700 - val_loss: 0.7228 - val_acc: 0.7000\n",
      "Epoch 33/50\n",
      "100/100 [==============================] - 0s 3ms/step - loss: 0.3758 - acc: 0.9300 - val_loss: 0.7227 - val_acc: 0.7500\n",
      "Epoch 34/50\n",
      "100/100 [==============================] - 0s 3ms/step - loss: 0.3625 - acc: 0.9400 - val_loss: 0.7328 - val_acc: 0.7000\n",
      "Epoch 35/50\n",
      "100/100 [==============================] - 0s 2ms/step - loss: 0.3388 - acc: 0.9200 - val_loss: 0.7113 - val_acc: 0.7500\n",
      "Epoch 36/50\n",
      "100/100 [==============================] - 0s 2ms/step - loss: 0.3730 - acc: 0.8700 - val_loss: 0.7272 - val_acc: 0.7500\n",
      "Epoch 37/50\n",
      "100/100 [==============================] - 0s 3ms/step - loss: 0.3824 - acc: 0.9000 - val_loss: 0.7074 - val_acc: 0.7500\n",
      "Epoch 38/50\n",
      "100/100 [==============================] - 0s 3ms/step - loss: 0.3157 - acc: 0.9400 - val_loss: 0.7099 - val_acc: 0.7500\n",
      "Epoch 39/50\n",
      "100/100 [==============================] - 0s 2ms/step - loss: 0.3425 - acc: 0.9300 - val_loss: 0.7169 - val_acc: 0.7500\n",
      "Epoch 40/50\n",
      "100/100 [==============================] - 0s 2ms/step - loss: 0.3540 - acc: 0.9100 - val_loss: 0.7047 - val_acc: 0.7000\n",
      "Epoch 41/50\n",
      "100/100 [==============================] - 0s 2ms/step - loss: 0.3553 - acc: 0.9000 - val_loss: 0.7112 - val_acc: 0.7500\n",
      "Epoch 42/50\n",
      "100/100 [==============================] - 0s 3ms/step - loss: 0.2923 - acc: 0.9700 - val_loss: 0.7304 - val_acc: 0.7000\n",
      "Epoch 43/50\n",
      "100/100 [==============================] - 0s 2ms/step - loss: 0.3038 - acc: 0.9400 - val_loss: 0.6875 - val_acc: 0.7500\n",
      "Epoch 44/50\n",
      "100/100 [==============================] - 0s 2ms/step - loss: 0.2918 - acc: 0.9400 - val_loss: 0.7202 - val_acc: 0.7000\n",
      "Epoch 45/50\n",
      "100/100 [==============================] - 0s 2ms/step - loss: 0.3151 - acc: 0.9400 - val_loss: 0.7126 - val_acc: 0.7500\n",
      "Epoch 46/50\n",
      "100/100 [==============================] - 0s 2ms/step - loss: 0.2702 - acc: 0.9700 - val_loss: 0.7150 - val_acc: 0.6500\n",
      "Epoch 47/50\n",
      "100/100 [==============================] - 0s 3ms/step - loss: 0.2692 - acc: 0.9500 - val_loss: 0.6985 - val_acc: 0.7500\n",
      "Epoch 48/50\n",
      "100/100 [==============================] - 0s 3ms/step - loss: 0.3153 - acc: 0.9300 - val_loss: 0.7036 - val_acc: 0.7500\n",
      "Epoch 49/50\n",
      "100/100 [==============================] - 0s 3ms/step - loss: 0.2527 - acc: 0.9700 - val_loss: 0.7020 - val_acc: 0.7000\n",
      "Epoch 50/50\n",
      "100/100 [==============================] - 0s 3ms/step - loss: 0.2534 - acc: 0.9600 - val_loss: 0.7232 - val_acc: 0.6500\n",
      "CPU times: user 33.9 s, sys: 620 ms, total: 34.5 s\n",
      "Wall time: 14.6 s\n"
     ]
    }
   ],
   "source": [
    "%%time\n",
    "from keras import models\n",
    "from keras import layers\n",
    "from keras import optimizers\n",
    "\n",
    "model = models.Sequential()\n",
    "model.add(layers.Dense(256, activation='relu', input_dim=4 * 4 * 512))\n",
    "model.add(layers.Dropout(0.5))\n",
    "model.add(layers.Dense(3, activation='softmax'))\n",
    "\n",
    "model.compile(optimizer=optimizers.RMSprop(lr=2e-5),\n",
    "              loss='categorical_crossentropy',\n",
    "              metrics=['acc'])\n",
    "\n",
    "history = model.fit(train_features, train_labels,\n",
    "                    epochs=50,\n",
    "                    batch_size=batch_size,\n",
    "                    validation_data=(validation_features, validation_labels))"
   ]
  },
  {
   "cell_type": "code",
   "execution_count": 45,
   "metadata": {},
   "outputs": [
    {
     "data": {
      "image/png": "[encoded data removed]",
      "text/plain": [
       "<matplotlib.figure.Figure at 0x7f602075e9d0>"
      ]
     },
     "metadata": {},
     "output_type": "display_data"
    },
    {
     "data": {
      "image/png": "[encoded data removed]",
      "text/plain": [
       "<matplotlib.figure.Figure at 0x7f6020709d90>"
      ]
     },
     "metadata": {},
     "output_type": "display_data"
    }
   ],
   "source": [
    "import matplotlib.pyplot as plt\n",
    "\n",
    "acc = history.history['acc']\n",
    "val_acc = history.history['val_acc']\n",
    "loss = history.history['loss']\n",
    "val_loss = history.history['val_loss']\n",
    "\n",
    "epochs = range(len(acc))\n",
    "\n",
    "plt.plot(epochs, acc, 'bo', label='Training acc')\n",
    "plt.plot(epochs, val_acc, 'b', label='Validation acc')\n",
    "plt.title('Training and validation accuracy')\n",
    "plt.legend()\n",
    "\n",
    "plt.figure()\n",
    "\n",
    "plt.plot(epochs, loss, 'bo', label='Training loss')\n",
    "plt.plot(epochs, val_loss, 'b', label='Validation loss')\n",
    "plt.title('Training and validation loss')\n",
    "plt.legend()\n",
    "\n",
    "plt.show()\n",
    "\n",
    "model.save('digital.h5')"
   ]
  },
  {
   "cell_type": "code",
   "execution_count": 46,
   "metadata": {},
   "outputs": [],
   "source": [
    "from keras import models\n",
    "from keras import layers\n",
    "\n",
    "model = models.Sequential()\n",
    "model.add(conv_base)\n",
    "model.add(layers.Flatten())\n",
    "model.add(layers.Dense(256, activation='relu'))\n",
    "model.add(layers.Dense(3, activation='softmax'))"
   ]
  },
  {
   "cell_type": "code",
   "execution_count": 47,
   "metadata": {},
   "outputs": [
    {
     "name": "stdout",
     "output_type": "stream",
     "text": [
      "_________________________________________________________________\n",
      "Layer (type)                 Output Shape              Param #   \n",
      "=================================================================\n",
      "vgg16 (Model)                (None, 4, 4, 512)         14714688  \n",
      "_________________________________________________________________\n",
      "flatten_3 (Flatten)          (None, 8192)              0         \n",
      "_________________________________________________________________\n",
      "dense_13 (Dense)             (None, 256)               2097408   \n",
      "_________________________________________________________________\n",
      "dense_14 (Dense)             (None, 3)                 771       \n",
      "=================================================================\n",
      "Total params: 16,812,867\n",
      "Trainable params: 16,812,867\n",
      "Non-trainable params: 0\n",
      "_________________________________________________________________\n"
     ]
    }
   ],
   "source": [
    "model.summary()"
   ]
  },
  {
   "cell_type": "code",
   "execution_count": 48,
   "metadata": {},
   "outputs": [
    {
     "name": "stdout",
     "output_type": "stream",
     "text": [
      "('This is the number of trainable weights before freezing the conv base:', 30)\n",
      "('This is the number of trainable weights after freezing the conv base:', 4)\n"
     ]
    }
   ],
   "source": [
    "print('This is the number of trainable weights '\n",
    "      'before freezing the conv base:', len(model.trainable_weights))\n",
    "\n",
    "conv_base.trainable = False\n",
    "\n",
    "print('This is the number of trainable weights '\n",
    "      'after freezing the conv base:', len(model.trainable_weights))"
   ]
  },
  {
   "cell_type": "code",
   "execution_count": 49,
   "metadata": {},
   "outputs": [
    {
     "name": "stdout",
     "output_type": "stream",
     "text": [
      "Found 169 images belonging to 3 classes.\n",
      "Found 52 images belonging to 3 classes.\n",
      "CPU times: user 168 ms, sys: 28 ms, total: 196 ms\n",
      "Wall time: 501 ms\n"
     ]
    }
   ],
   "source": [
    "\n",
    "\n",
    "%%time\n",
    "from keras.preprocessing.image import ImageDataGenerator\n",
    "\n",
    "train_datagen = ImageDataGenerator(\n",
    "      rescale=1./255,\n",
    "      rotation_range=0,\n",
    "      width_shift_range=0,\n",
    "      height_shift_range=0,\n",
    "      shear_range=0,\n",
    "      zoom_range=0,\n",
    "      horizontal_flip=False,\n",
    "      fill_mode='nearest')\n",
    "\n",
    "# Note that the validation data should not be augmented!\n",
    "test_datagen = ImageDataGenerator(rescale=1./255)\n",
    "\n",
    "train_generator = train_datagen.flow_from_directory(\n",
    "        # This is the target directory\n",
    "        train_dir,\n",
    "        # All images will be resized to 150x150\n",
    "        target_size=(150, 150),\n",
    "        batch_size=20,\n",
    "        # Since we use binary_crossentropy loss, we need binary labels\n",
    "        class_mode='categorical')\n",
    "\n",
    "validation_generator = test_datagen.flow_from_directory(\n",
    "        validation_dir,\n",
    "        target_size=(150, 150),\n",
    "        batch_size=20,\n",
    "        class_mode='categorical')\n",
    "\n",
    "model.compile(loss='categorical_crossentropy',\n",
    "              optimizer=optimizers.RMSprop(lr=2e-5),\n",
    "              metrics=['acc'])\n",
    "\n",
    "#history = model.fit_generator(\n",
    "      #train_generator,\n",
    "      #steps_per_epoch=100,\n",
    "      #epochs=30,\n",
    "      #validation_data=validation_generator,\n",
    "      #validation_steps=50,\n",
    "      #verbose=2)\n",
    "\n"
   ]
  },
  {
   "cell_type": "code",
   "execution_count": 50,
   "metadata": {},
   "outputs": [],
   "source": [
    "model.save('fireants_01.h5')"
   ]
  },
  {
   "cell_type": "code",
   "execution_count": 51,
   "metadata": {},
   "outputs": [
    {
     "data": {
      "image/png": "[encoded data removed]",
      "text/plain": [
       "<matplotlib.figure.Figure at 0x7f602064e350>"
      ]
     },
     "metadata": {},
     "output_type": "display_data"
    },
    {
     "data": {
      "image/png": "[encoded data removed]",
      "text/plain": [
       "<matplotlib.figure.Figure at 0x7f60206c2290>"
      ]
     },
     "metadata": {},
     "output_type": "display_data"
    }
   ],
   "source": [
    "acc = history.history['acc']\n",
    "val_acc = history.history['val_acc']\n",
    "loss = history.history['loss']\n",
    "val_loss = history.history['val_loss']\n",
    "\n",
    "epochs = range(len(acc))\n",
    "\n",
    "plt.plot(epochs, acc, 'bo', label='Training acc')\n",
    "plt.plot(epochs, val_acc, 'b', label='Validation acc')\n",
    "plt.title('Training and validation accuracy')\n",
    "plt.legend()\n",
    "\n",
    "plt.figure()\n",
    "\n",
    "plt.plot(epochs, loss, 'bo', label='Training loss')\n",
    "plt.plot(epochs, val_loss, 'b', label='Validation loss')\n",
    "plt.title('Training and validation loss')\n",
    "plt.legend()\n",
    "\n",
    "plt.show()"
   ]
  },
  {
   "cell_type": "code",
   "execution_count": 52,
   "metadata": {},
   "outputs": [
    {
     "name": "stdout",
     "output_type": "stream",
     "text": [
      "_________________________________________________________________\n",
      "Layer (type)                 Output Shape              Param #   \n",
      "=================================================================\n",
      "input_3 (InputLayer)         (None, 150, 150, 3)       0         \n",
      "_________________________________________________________________\n",
      "block1_conv1 (Conv2D)        (None, 150, 150, 64)      1792      \n",
      "_________________________________________________________________\n",
      "block1_conv2 (Conv2D)        (None, 150, 150, 64)      36928     \n",
      "_________________________________________________________________\n",
      "block1_pool (MaxPooling2D)   (None, 75, 75, 64)        0         \n",
      "_________________________________________________________________\n",
      "block2_conv1 (Conv2D)        (None, 75, 75, 128)       73856     \n",
      "_________________________________________________________________\n",
      "block2_conv2 (Conv2D)        (None, 75, 75, 128)       147584    \n",
      "_________________________________________________________________\n",
      "block2_pool (MaxPooling2D)   (None, 37, 37, 128)       0         \n",
      "_________________________________________________________________\n",
      "block3_conv1 (Conv2D)        (None, 37, 37, 256)       295168    \n",
      "_________________________________________________________________\n",
      "block3_conv2 (Conv2D)        (None, 37, 37, 256)       590080    \n",
      "_________________________________________________________________\n",
      "block3_conv3 (Conv2D)        (None, 37, 37, 256)       590080    \n",
      "_________________________________________________________________\n",
      "block3_pool (MaxPooling2D)   (None, 18, 18, 256)       0         \n",
      "_________________________________________________________________\n",
      "block4_conv1 (Conv2D)        (None, 18, 18, 512)       1180160   \n",
      "_________________________________________________________________\n",
      "block4_conv2 (Conv2D)        (None, 18, 18, 512)       2359808   \n",
      "_________________________________________________________________\n",
      "block4_conv3 (Conv2D)        (None, 18, 18, 512)       2359808   \n",
      "_________________________________________________________________\n",
      "block4_pool (MaxPooling2D)   (None, 9, 9, 512)         0         \n",
      "_________________________________________________________________\n",
      "block5_conv1 (Conv2D)        (None, 9, 9, 512)         2359808   \n",
      "_________________________________________________________________\n",
      "block5_conv2 (Conv2D)        (None, 9, 9, 512)         2359808   \n",
      "_________________________________________________________________\n",
      "block5_conv3 (Conv2D)        (None, 9, 9, 512)         2359808   \n",
      "_________________________________________________________________\n",
      "block5_pool (MaxPooling2D)   (None, 4, 4, 512)         0         \n",
      "=================================================================\n",
      "Total params: 14,714,688\n",
      "Trainable params: 0\n",
      "Non-trainable params: 14,714,688\n",
      "_________________________________________________________________\n"
     ]
    }
   ],
   "source": [
    "conv_base.summary()"
   ]
  },
  {
   "cell_type": "code",
   "execution_count": 53,
   "metadata": {},
   "outputs": [],
   "source": [
    "conv_base.trainable = True\n",
    "\n",
    "set_trainable = False\n",
    "for layer in conv_base.layers:\n",
    "    if layer.name == 'block5_conv1':\n",
    "        set_trainable = True\n",
    "    if set_trainable:\n",
    "        layer.trainable = True\n",
    "    else:\n",
    "        layer.trainable = False"
   ]
  },
  {
   "cell_type": "code",
   "execution_count": 54,
   "metadata": {
    "scrolled": true
   },
   "outputs": [
    {
     "name": "stdout",
     "output_type": "stream",
     "text": [
      "Epoch 1/10\n",
      "10/10 [==============================] - 259s 26s/step - loss: 1.0883 - acc: 0.4556 - val_loss: 0.9972 - val_acc: 0.5000\n",
      "Epoch 2/10\n",
      "10/10 [==============================] - 242s 24s/step - loss: 0.8545 - acc: 0.6862 - val_loss: 0.9344 - val_acc: 0.5385\n",
      "Epoch 3/10\n",
      "10/10 [==============================] - 233s 23s/step - loss: 0.7094 - acc: 0.8155 - val_loss: 0.9134 - val_acc: 0.5769\n",
      "Epoch 4/10\n",
      "10/10 [==============================] - 239s 24s/step - loss: 0.5976 - acc: 0.8778 - val_loss: 0.8940 - val_acc: 0.5192\n",
      "Epoch 5/10\n",
      "10/10 [==============================] - 239s 24s/step - loss: 0.5155 - acc: 0.8939 - val_loss: 0.8614 - val_acc: 0.5385\n",
      "Epoch 6/10\n",
      "10/10 [==============================] - 239s 24s/step - loss: 0.4154 - acc: 0.9397 - val_loss: 0.8163 - val_acc: 0.6346\n",
      "Epoch 7/10\n",
      "10/10 [==============================] - 239s 24s/step - loss: 0.3610 - acc: 0.9442 - val_loss: 0.7989 - val_acc: 0.5962\n",
      "Epoch 8/10\n",
      "10/10 [==============================] - 240s 24s/step - loss: 0.3023 - acc: 0.9643 - val_loss: 0.7960 - val_acc: 0.6346\n",
      "Epoch 9/10\n",
      "10/10 [==============================] - 240s 24s/step - loss: 0.2688 - acc: 0.9593 - val_loss: 0.8173 - val_acc: 0.5962\n",
      "Epoch 10/10\n",
      "10/10 [==============================] - 240s 24s/step - loss: 0.2013 - acc: 0.9648 - val_loss: 0.8070 - val_acc: 0.6346\n",
      "CPU times: user 2h 32min 8s, sys: 4min 8s, total: 2h 36min 16s\n",
      "Wall time: 40min 11s\n"
     ]
    }
   ],
   "source": [
    "%%time\n",
    "model.compile(loss='categorical_crossentropy',\n",
    "              optimizer=optimizers.RMSprop(lr=1e-5),\n",
    "              metrics=['acc'])\n",
    "\n",
    "history = model.fit_generator(\n",
    "      train_generator,\n",
    "      steps_per_epoch=10, # 100\n",
    "      epochs=10, # 100\n",
    "      validation_data=validation_generator,\n",
    "      validation_steps=15 ) # 50"
   ]
  },
  {
   "cell_type": "code",
   "execution_count": 55,
   "metadata": {},
   "outputs": [],
   "source": [
    "model.save('fireants_02.h5')"
   ]
  },
  {
   "cell_type": "code",
   "execution_count": 56,
   "metadata": {},
   "outputs": [
    {
     "data": {
      "image/png": "[encoded data removed]",
      "text/plain": [
       "<matplotlib.figure.Figure at 0x7f6003892810>"
      ]
     },
     "metadata": {},
     "output_type": "display_data"
    },
    {
     "data": {
      "image/png": "[encoded data removed]",
      "text/plain": [
       "<matplotlib.figure.Figure at 0x7f6003840e90>"
      ]
     },
     "metadata": {},
     "output_type": "display_data"
    }
   ],
   "source": [
    "acc = history.history['acc']\n",
    "val_acc = history.history['val_acc']\n",
    "loss = history.history['loss']\n",
    "val_loss = history.history['val_loss']\n",
    "\n",
    "epochs = range(len(acc))\n",
    "\n",
    "plt.plot(epochs, acc, 'bo', label='Training acc')\n",
    "plt.plot(epochs, val_acc, 'b', label='Validation acc')\n",
    "plt.title('Training and validation accuracy')\n",
    "plt.legend()\n",
    "\n",
    "plt.figure()\n",
    "\n",
    "plt.plot(epochs, loss, 'bo', label='Training loss')\n",
    "plt.plot(epochs, val_loss, 'b', label='Validation loss')\n",
    "plt.title('Training and validation loss')\n",
    "plt.legend()\n",
    "\n",
    "plt.show()"
   ]
  },
  {
   "cell_type": "code",
   "execution_count": 57,
   "metadata": {},
   "outputs": [
    {
     "data": {
      "image/png": "[encoded data removed]",
      "text/plain": [
       "<matplotlib.figure.Figure at 0x7f60038a56d0>"
      ]
     },
     "metadata": {},
     "output_type": "display_data"
    },
    {
     "data": {
      "image/png": "[encoded data removed]",
      "text/plain": [
       "<matplotlib.figure.Figure at 0x7f6003823850>"
      ]
     },
     "metadata": {},
     "output_type": "display_data"
    }
   ],
   "source": [
    "def smooth_curve(points, factor=0.8):\n",
    "  smoothed_points = []\n",
    "  for point in points:\n",
    "    if smoothed_points:\n",
    "      previous = smoothed_points[-1]\n",
    "      smoothed_points.append(previous * factor + point * (1 - factor))\n",
    "    else:\n",
    "      smoothed_points.append(point)\n",
    "  return smoothed_points\n",
    "\n",
    "plt.plot(epochs,\n",
    "         smooth_curve(acc), 'bo', label='Smoothed training acc')\n",
    "plt.plot(epochs,\n",
    "         smooth_curve(val_acc), 'b', label='Smoothed validation acc')\n",
    "plt.title('Training and validation accuracy')\n",
    "plt.legend()\n",
    "\n",
    "plt.figure()\n",
    "\n",
    "plt.plot(epochs,\n",
    "         smooth_curve(loss), 'bo', label='Smoothed training loss')\n",
    "plt.plot(epochs,\n",
    "         smooth_curve(val_loss), 'b', label='Smoothed validation loss')\n",
    "plt.title('Training and validation loss')\n",
    "plt.legend()\n",
    "\n",
    "plt.show()"
   ]
  },
  {
   "cell_type": "code",
   "execution_count": 58,
   "metadata": {},
   "outputs": [
    {
     "name": "stdout",
     "output_type": "stream",
     "text": [
      "Found 56 images belonging to 3 classes.\n",
      "('test acc:', 0.60790598277862251)\n",
      "CPU times: user 29min 39s, sys: 49.5 s, total: 30min 29s\n",
      "Wall time: 7min 44s\n"
     ]
    }
   ],
   "source": [
    "%%time\n",
    "test_generator = test_datagen.flow_from_directory(\n",
    "        test_dir,\n",
    "        target_size=(150, 150),\n",
    "        batch_size=20,\n",
    "        class_mode='categorical')\n",
    "\n",
    "test_loss, test_acc = model.evaluate_generator(test_generator, steps=50) # use steps = 50\n",
    "print('test acc:', test_acc)"
   ]
  },
  {
   "cell_type": "code",
   "execution_count": null,
   "metadata": {},
   "outputs": [],
   "source": []
  }
 ],
 "metadata": {
  "kernelspec": {
   "display_name": "Python 3",
   "language": "python",
   "name": "python3"
  },
  "language_info": {
   "codemirror_mode": {
    "name": "ipython",
    "version": 3
   },
   "file_extension": ".py",
   "mimetype": "text/x-python",
   "name": "python",
   "nbconvert_exporter": "python",
   "pygments_lexer": "ipython3",
   "version": "3.6.4"
  }
 },
 "nbformat": 4,
 "nbformat_minor": 2
}
